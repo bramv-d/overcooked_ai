{
 "cells": [
  {
   "cell_type": "code",
   "metadata": {
    "ExecuteTime": {
     "end_time": "2025-04-08T12:41:19.418639Z",
     "start_time": "2025-04-08T12:41:19.412850Z"
    }
   },
   "source": [
    "# This notebook is for tests generation for state visualizer\n",
    "# if you cannot run this notebook in conda env check this out: https://medium.com/@nrk25693/how-to-add-your-conda-environment-to-your-jupyter-notebook-in-just-4-steps-abeab8b8d084\n",
    "from overcooked_ai_py.agents.benchmarking import AgentEvaluator\n",
    "from overcooked_ai_py.agents.agent import (\n",
    "    SampleAgent,\n",
    "    GreedyHumanModel,\n",
    "    RandomAgent,\n",
    ")\n",
    "from overcooked_ai_py.mdp.overcooked_mdp import (\n",
    "    OvercookedGridworld,\n",
    "    OvercookedState,\n",
    "    Recipe,\n",
    "    SoupState,\n",
    ")\n",
    "from overcooked_ai_py.visualization.state_visualizer import StateVisualizer\n",
    "from overcooked_ai_py.visualization.visualization_utils import (\n",
    "    show_image_in_ipython,\n",
    ")\n",
    "from overcooked_ai_py.utils import generate_temporary_file_path\n",
    "from overcooked_ai_py.static import FONTS_DIR\n",
    "from overcooked_ai_py.mdp.layout_generator import POT\n",
    "import copy\n",
    "import pygame\n",
    "import os\n",
    "import numpy as np\n",
    "import json\n",
    "\n",
    "\n",
    "def has_cooking_timer(state, grid):\n",
    "    for obj in state.objects.values():\n",
    "        if isinstance(obj, SoupState):\n",
    "            (x_pos, y_pos) = obj.position\n",
    "            if obj._cooking_tick > 0 and grid[y_pos][x_pos] == POT:\n",
    "                print(\"found cooking object\", obj)\n",
    "                return True\n",
    "    return False\n",
    "\n",
    "\n",
    "Recipe.configure({})\n",
    "\n",
    "\n",
    "def display_and_export_to_array(test_dict):\n",
    "    test_dict = copy.deepcopy(test_dict)\n",
    "    test_dict[\"kwargs\"][\"state\"] = OvercookedState.from_dict(\n",
    "        test_dict[\"kwargs\"][\"state\"]\n",
    "    )\n",
    "    surface = StateVisualizer(**test_dict[\"config\"]).render_state(**test_dict[\"kwargs\"])\n",
    "    img_path = generate_temporary_file_path(\"temporary_visualization\", extension=\".png\")\n",
    "    pygame.image.save(surface, img_path)\n",
    "    print(\"check if image is okay\")\n",
    "    show_image_in_ipython(img_path)\n",
    "    return pygame.surfarray.array3d(surface)\n",
    "\n",
    "\n",
    "def save_test_files(test_dicts_list, test_result_arrays, json_filename):\n",
    "    for d, a in zip(test_dicts_list, test_result_arrays):\n",
    "        with open(d[\"result_array_filename\"], \"wb\") as f:\n",
    "            np.save(f, a)\n",
    "    with open(json_filename, \"w\") as f:\n",
    "        json.dump(test_dicts_list, f)\n",
    "\n",
    "\n",
    "DEFAULT_VALUES = {\n",
    "    \"height\": None,  # if None use grid_width - NOTE: can chop down hud if hud is wider than grid\n",
    "    \"width\": None,  # if None use (hud_height+grid_height)\n",
    "    \"tile_size\": 75,\n",
    "    \"window_fps\": 30,\n",
    "    \"player_colors\": [\"blue\", \"green\"],\n",
    "    \"is_rendering_hud\": True,\n",
    "    \"hud_font_size\": 10,\n",
    "    \"hud_system_font_name\": None,  # if set to None use hud_font_path\n",
    "    # needs to be overwritten with default - every pc has different pathes \"hud_font_path\": roboto_path,\n",
    "    \"hud_font_color\": (255, 255, 255),  # white\n",
    "    \"hud_data_default_key_order\": [\n",
    "        \"all_orders\",\n",
    "        \"bonus_orders\",\n",
    "        \"time_left\",\n",
    "        \"score\",\n",
    "        \"potential\",\n",
    "    ],\n",
    "    \"hud_interline_size\": 10,\n",
    "    \"hud_margin_bottom\": 10,\n",
    "    \"hud_margin_top\": 10,\n",
    "    \"hud_margin_left\": 10,\n",
    "    \"hud_distance_between_orders\": 5,\n",
    "    \"hud_order_size\": 15,\n",
    "    \"is_rendering_cooking_timer\": True,\n",
    "    \"show_timer_when_cooked\": True,\n",
    "    \"cooking_timer_font_size\": 20,  # # if set to None use cooking_timer_font_path\n",
    "    # needs to be overwritten with default - every pc has different pathes \"cooking_timer_font_path\": roboto_path,\n",
    "    \"cooking_timer_system_font_name\": None,\n",
    "    \"cooking_timer_font_color\": (255, 0, 0),  # red\n",
    "    \"grid\": None,\n",
    "    \"background_color\": (155, 101, 0),  # color of empty counter\n",
    "}"
   ],
   "outputs": [],
   "execution_count": 11
  },
  {
   "cell_type": "code",
   "metadata": {
    "ExecuteTime": {
     "end_time": "2025-04-08T12:41:19.450274Z",
     "start_time": "2025-04-08T12:41:19.433511Z"
    }
   },
   "source": [
    "# because of inconsistent display of fonts there is no HUD tests currently used\n",
    "hud_tests = []\n",
    "hud_test_results = []\n",
    "\n",
    "mdp = OvercookedGridworld.from_layout_name(layout_name=\"cramped_room\")\n",
    "agent_eval = AgentEvaluator(env_params={\"horizon\": 1}, mdp_fn=lambda _: mdp)\n",
    "\n",
    "trajectory_random_pair = agent_eval.evaluate_random_pair(\n",
    "    num_games=1, display=False, native_eval=True\n",
    ")\n",
    "grid = trajectory_random_pair[\"mdp_params\"][0][\"terrain\"]\n",
    "state = trajectory_random_pair[\"ep_states\"][0][0]\n",
    "\n",
    "config = copy.deepcopy(DEFAULT_VALUES)\n",
    "config[\"tile_size\"] = 30\n",
    "config[\"hud_font_size\"] = 20\n",
    "hud_data = {\"time_left\": 100}\n",
    "kwargs = {\"hud_data\": hud_data, \"grid\": grid, \"state\": state.to_dict()}\n",
    "\n",
    "test_hud_1 = {\n",
    "    \"config\": config,\n",
    "    \"kwargs\": kwargs,\n",
    "    \"comment\": \"Test simple text in hud. NOTE: failing to render stuff outside HUD also fails this test\",\n",
    "    \"result_array_filename\": \"test_hud_1.npy\",\n",
    "}\n",
    "print(\"testing test_hud_1 dict\")\n",
    "test_hud_1_array = display_and_export_to_array(test_hud_1)\n",
    "hud_tests.append(test_hud_1)\n",
    "hud_test_results.append(test_hud_1_array)\n",
    "\n",
    "\n",
    "config = copy.deepcopy(DEFAULT_VALUES)\n",
    "config[\"tile_size\"] = 30\n",
    "config[\"hud_font_size\"] = 20\n",
    "config[\"hud_order_size\"] = 25\n",
    "hud_data = {\"all_orders\": trajectory_random_pair[\"mdp_params\"][0][\"start_all_orders\"]}\n",
    "kwargs = {\"hud_data\": hud_data, \"grid\": grid, \"state\": state.to_dict()}\n",
    "test_hud_2 = {\n",
    "    \"config\": config,\n",
    "    \"kwargs\": kwargs,\n",
    "    \"comment\": \"Test simple recipes in hud. NOTE: failing to render stuff outside HUD also fails this test\",\n",
    "    \"result_array_filename\": \"test_hud_2.npy\",\n",
    "}\n",
    "\n",
    "print(\"testing test_hud_2 dict\")\n",
    "test_hud_2_array = display_and_export_to_array(test_hud_2)\n",
    "hud_tests.append(test_hud_2)\n",
    "hud_test_results.append(test_hud_2_array)\n",
    "\n",
    "config = copy.deepcopy(DEFAULT_VALUES)\n",
    "config[\"tile_size\"] = 30\n",
    "config[\"hud_font_size\"] = 20\n",
    "hud_data = {\"time_left\": 100, \"a\": \"a\", \"b\": \"b\", \"c\": \"c\", \"z\": \"z\"}\n",
    "kwargs = {\"hud_data\": hud_data, \"grid\": grid, \"state\": state.to_dict()}\n",
    "test_hud_3 = {\n",
    "    \"config\": config,\n",
    "    \"kwargs\": kwargs,\n",
    "    \"comment\": \"Test chronology of hud based on keys NOTE: failing to render stuff outside HUD also fails this test\",\n",
    "    \"result_array_filename\": \"test_hud_3.npy\",\n",
    "}\n",
    "print(\"testing test_hud_3 dict\")\n",
    "test_hud_3_array = display_and_export_to_array(test_hud_3)\n",
    "hud_tests.append(test_hud_3)\n",
    "hud_test_results.append(test_hud_3_array)"
   ],
   "outputs": [
    {
     "name": "stderr",
     "output_type": "stream",
     "text": [
      "Avg rew: 0.00 (std: 0.00, se: 0.00); avg len: 1.00; : 100%|██████████| 1/1 [00:00<00:00, 901.61it/s]"
     ]
    },
    {
     "name": "stdout",
     "output_type": "stream",
     "text": [
      "testing test_hud_1 dict\n",
      "check if image is okay\n"
     ]
    },
    {
     "name": "stderr",
     "output_type": "stream",
     "text": [
      "\n"
     ]
    },
    {
     "data": {
      "image/png": "[encoded data removed]",
      "text/plain": [
       "<IPython.core.display.Image object>"
      ]
     },
     "metadata": {},
     "output_type": "display_data"
    },
    {
     "name": "stdout",
     "output_type": "stream",
     "text": [
      "testing test_hud_2 dict\n",
      "check if image is okay\n"
     ]
    },
    {
     "data": {
      "image/png": "[encoded data removed]",
      "text/plain": [
       "<IPython.core.display.Image object>"
      ]
     },
     "metadata": {},
     "output_type": "display_data"
    },
    {
     "name": "stdout",
     "output_type": "stream",
     "text": [
      "testing test_hud_3 dict\n",
      "check if image is okay\n"
     ]
    },
    {
     "data": {
      "image/png": "[encoded data removed]",
      "text/plain": [
       "<IPython.core.display.Image object>"
      ]
     },
     "metadata": {},
     "output_type": "display_data"
    }
   ],
   "execution_count": 12
  },
  {
   "cell_type": "code",
   "metadata": {
    "ExecuteTime": {
     "end_time": "2025-04-08T12:41:19.465197Z",
     "start_time": "2025-04-08T12:41:19.462098Z"
    }
   },
   "source": [
    "# if all stuff above is ok run this cell\n",
    "# because of inconsistent display of fonts there is no HUD tests currently used\n",
    "save_test_files(hud_tests, hud_test_results, \"render_state_data_test_hud.json\")"
   ],
   "outputs": [],
   "execution_count": 13
  },
  {
   "cell_type": "code",
   "metadata": {
    "ExecuteTime": {
     "end_time": "2025-04-08T12:41:19.484729Z",
     "start_time": "2025-04-08T12:41:19.476289Z"
    }
   },
   "source": [
    "size_tests = []\n",
    "size_test_results = []\n",
    "config = copy.deepcopy(DEFAULT_VALUES)\n",
    "config[\"tile_size\"] = 60\n",
    "kwargs = {\"hud_data\": {}, \"grid\": grid, \"state\": state.to_dict()}\n",
    "test_size_1 = {\n",
    "    \"config\": config,\n",
    "    \"kwargs\": kwargs,\n",
    "    \"comment\": \"Test of setting of tile_size (no hud)\",\n",
    "    \"result_array_filename\": \"test_size_1.npy\",\n",
    "}\n",
    "print(\"testing test_size_1 dict\")\n",
    "test_size_1_array = display_and_export_to_array(test_size_1)\n",
    "size_tests.append(test_size_1)\n",
    "size_test_results.append(test_size_1_array)\n",
    "\n",
    "config = copy.deepcopy(DEFAULT_VALUES)\n",
    "config[\"tile_size\"] = 15\n",
    "config[\"height\"] = 100\n",
    "config[\"width\"] = 100\n",
    "kwargs = {\"hud_data\": {}, \"grid\": grid, \"state\": state.to_dict()}\n",
    "test_size_2 = {\n",
    "    \"config\": config,\n",
    "    \"kwargs\": kwargs,\n",
    "    \"comment\": \"Test of setting of width and height (no hud)\",\n",
    "    \"result_array_filename\": \"test_size_2.npy\",\n",
    "}\n",
    "print(\"testing test_size_2 dict\")\n",
    "test_size_2_array = display_and_export_to_array(test_size_2)\n",
    "size_tests.append(test_size_2)\n",
    "size_test_results.append(test_size_2_array)"
   ],
   "outputs": [
    {
     "name": "stdout",
     "output_type": "stream",
     "text": [
      "testing test_size_1 dict\n",
      "check if image is okay\n"
     ]
    },
    {
     "data": {
      "image/png": "[encoded data removed]",
      "text/plain": [
       "<IPython.core.display.Image object>"
      ]
     },
     "metadata": {},
     "output_type": "display_data"
    },
    {
     "name": "stdout",
     "output_type": "stream",
     "text": [
      "testing test_size_2 dict\n",
      "check if image is okay\n"
     ]
    },
    {
     "data": {
      "image/png": "[encoded data removed]",
      "text/plain": [
       "<IPython.core.display.Image object>"
      ]
     },
     "metadata": {},
     "output_type": "display_data"
    }
   ],
   "execution_count": 14
  },
  {
   "cell_type": "code",
   "metadata": {
    "ExecuteTime": {
     "end_time": "2025-04-08T12:41:19.499937Z",
     "start_time": "2025-04-08T12:41:19.497398Z"
    }
   },
   "source": [
    "# if all stuff above is ok run this cell\n",
    "save_test_files(size_tests, size_test_results, \"render_state_data_test_sizes.json\")"
   ],
   "outputs": [],
   "execution_count": 15
  },
  {
   "cell_type": "code",
   "metadata": {
    "ExecuteTime": {
     "end_time": "2025-04-08T12:41:19.576894Z",
     "start_time": "2025-04-08T12:41:19.511272Z"
    }
   },
   "source": [
    "rendered_cooking_timer = False\n",
    "config = copy.deepcopy(DEFAULT_VALUES)\n",
    "config[\"tile_size\"] = 45\n",
    "\n",
    "while not rendered_cooking_timer:\n",
    "    mdp = OvercookedGridworld.from_layout_name(layout_name=\"cramped_room\")\n",
    "    agent_eval = AgentEvaluator(env_params={\"horizon\": 1000}, mdp_fn=lambda _: mdp)\n",
    "    trajectory_random_pair = agent_eval.evaluate_random_pair(\n",
    "        num_games=1, display=False, native_eval=True\n",
    "    )\n",
    "    grid = trajectory_random_pair[\"mdp_params\"][0][\"terrain\"]\n",
    "    for state in trajectory_random_pair[\"ep_states\"][0]:\n",
    "        if not rendered_cooking_timer and has_cooking_timer(state, grid):\n",
    "            kwargs = {\"hud_data\": {}, \"grid\": grid, \"state\": state.to_dict()}\n",
    "            test_cooking_timer_1 = {\n",
    "                \"config\": config,\n",
    "                \"kwargs\": kwargs,\n",
    "                \"comment\": \"Test of setting rendering cooking timer\",\n",
    "                \"result_array_filename\": \"test_cooking_timer_display_1.npy\",\n",
    "            }\n",
    "            print(\"test_cooking_timer_1 dict\")\n",
    "            test_test_cooking_timer_1_array = display_and_export_to_array(\n",
    "                test_cooking_timer_1\n",
    "            )\n",
    "            rendered_cooking_timer = True"
   ],
   "outputs": [
    {
     "name": "stderr",
     "output_type": "stream",
     "text": [
      "Avg rew: 0.00 (std: 0.00, se: 0.00); avg len: 1000.00; : 100%|██████████| 1/1 [00:00<00:00, 17.30it/s]"
     ]
    },
    {
     "name": "stdout",
     "output_type": "stream",
     "text": [
      "found cooking object {øøø1\n",
      "test_cooking_timer_1 dict\n",
      "check if image is okay\n"
     ]
    },
    {
     "name": "stderr",
     "output_type": "stream",
     "text": [
      "\n"
     ]
    },
    {
     "data": {
      "image/png": "[encoded data removed]",
      "text/plain": [
       "<IPython.core.display.Image object>"
      ]
     },
     "metadata": {},
     "output_type": "display_data"
    }
   ],
   "execution_count": 16
  },
  {
   "cell_type": "code",
   "metadata": {
    "ExecuteTime": {
     "end_time": "2025-04-08T12:41:19.591891Z",
     "start_time": "2025-04-08T12:41:19.589287Z"
    }
   },
   "source": [
    "# if all stuff above is ok run this cell\n",
    "save_test_files(\n",
    "    [test_cooking_timer_1],\n",
    "    [test_test_cooking_timer_1_array],\n",
    "    \"render_state_data_test_cooking_display.json\",\n",
    ")"
   ],
   "outputs": [],
   "execution_count": 17
  },
  {
   "cell_type": "code",
   "metadata": {
    "ExecuteTime": {
     "end_time": "2025-04-08T12:41:19.768891Z",
     "start_time": "2025-04-08T12:41:19.615940Z"
    }
   },
   "source": [
    "# testing some states hoping it can find unexpected bugs\n",
    "various_tests = []\n",
    "various_results = []\n",
    "\n",
    "config = copy.deepcopy(DEFAULT_VALUES)\n",
    "config[\"tile_size\"] = 45\n",
    "config[\"cooking_timer_font_size\"] = 15\n",
    "mdp = OvercookedGridworld.from_layout_name(layout_name=\"cramped_room_tomato\")\n",
    "agent_eval = AgentEvaluator(env_params={\"horizon\": 1001}, mdp_fn=lambda _: mdp)\n",
    "trajectory_random_pair = agent_eval.evaluate_random_pair(\n",
    "    num_games=1, display=False, native_eval=True\n",
    ")\n",
    "grid = trajectory_random_pair[\"mdp_params\"][0][\"terrain\"]\n",
    "for i in range(1, 11):\n",
    "    state = trajectory_random_pair[\"ep_states\"][0][i * 100]\n",
    "    kwargs = {\"hud_data\": {}, \"grid\": grid, \"state\": state.to_dict()}\n",
    "    test_dict = {\n",
    "        \"config\": config,\n",
    "        \"kwargs\": kwargs,\n",
    "        \"comment\": \"Various tests\",\n",
    "        \"result_array_filename\": \"test_various_display_%d.npy\" % i,\n",
    "    }\n",
    "    print(\"test_various_display_%i dict\" % i)\n",
    "    test_array = display_and_export_to_array(test_dict)\n",
    "    various_tests.append(test_dict)\n",
    "    various_results.append(test_array)"
   ],
   "outputs": [
    {
     "name": "stderr",
     "output_type": "stream",
     "text": [
      "  0%|          | 0/1 [00:00<?, ?it/s]"
     ]
    },
    {
     "name": "stdout",
     "output_type": "stream",
     "text": [
      "Computing MotionPlanner to be saved in /Users/bram/Documents/Afstuderen/src/overcooked_ai_py/data/planners/cramped_room_tomato_mp.pkl\n",
      "It took 0.01203465461730957 seconds to create mp\n"
     ]
    },
    {
     "name": "stderr",
     "output_type": "stream",
     "text": [
      "Avg rew: 0.00 (std: 0.00, se: 0.00); avg len: 1001.00; : 100%|██████████| 1/1 [00:00<00:00,  8.63it/s]"
     ]
    },
    {
     "name": "stdout",
     "output_type": "stream",
     "text": [
      "test_various_display_1 dict\n",
      "check if image is okay\n"
     ]
    },
    {
     "name": "stderr",
     "output_type": "stream",
     "text": [
      "\n"
     ]
    },
    {
     "data": {
      "image/png": "[encoded data removed]",
      "text/plain": [
       "<IPython.core.display.Image object>"
      ]
     },
     "metadata": {},
     "output_type": "display_data"
    },
    {
     "name": "stdout",
     "output_type": "stream",
     "text": [
      "test_various_display_2 dict\n",
      "check if image is okay\n"
     ]
    },
    {
     "data": {
      "image/png": "[encoded data removed]",
      "text/plain": [
       "<IPython.core.display.Image object>"
      ]
     },
     "metadata": {},
     "output_type": "display_data"
    },
    {
     "name": "stdout",
     "output_type": "stream",
     "text": [
      "test_various_display_3 dict\n",
      "check if image is okay\n"
     ]
    },
    {
     "data": {
      "image/png": "[encoded data removed]",
      "text/plain": [
       "<IPython.core.display.Image object>"
      ]
     },
     "metadata": {},
     "output_type": "display_data"
    },
    {
     "name": "stdout",
     "output_type": "stream",
     "text": [
      "test_various_display_4 dict\n",
      "check if image is okay\n"
     ]
    },
    {
     "data": {
      "image/png": "[encoded data removed]",
      "text/plain": [
       "<IPython.core.display.Image object>"
      ]
     },
     "metadata": {},
     "output_type": "display_data"
    },
    {
     "name": "stdout",
     "output_type": "stream",
     "text": [
      "test_various_display_5 dict\n",
      "check if image is okay\n"
     ]
    },
    {
     "data": {
      "image/png": "[encoded data removed]",
      "text/plain": [
       "<IPython.core.display.Image object>"
      ]
     },
     "metadata": {},
     "output_type": "display_data"
    },
    {
     "name": "stdout",
     "output_type": "stream",
     "text": [
      "test_various_display_6 dict\n",
      "check if image is okay\n"
     ]
    },
    {
     "data": {
      "image/png": "[encoded data removed]",
      "text/plain": [
       "<IPython.core.display.Image object>"
      ]
     },
     "metadata": {},
     "output_type": "display_data"
    },
    {
     "name": "stdout",
     "output_type": "stream",
     "text": [
      "test_various_display_7 dict\n",
      "check if image is okay\n"
     ]
    },
    {
     "data": {
      "image/png": "[encoded data removed]",
      "text/plain": [
       "<IPython.core.display.Image object>"
      ]
     },
     "metadata": {},
     "output_type": "display_data"
    },
    {
     "name": "stdout",
     "output_type": "stream",
     "text": [
      "test_various_display_8 dict\n",
      "check if image is okay\n"
     ]
    },
    {
     "data": {
      "image/png": "[encoded data removed]",
      "text/plain": [
       "<IPython.core.display.Image object>"
      ]
     },
     "metadata": {},
     "output_type": "display_data"
    },
    {
     "name": "stdout",
     "output_type": "stream",
     "text": [
      "test_various_display_9 dict\n",
      "check if image is okay\n"
     ]
    },
    {
     "data": {
      "image/png": "[encoded data removed]",
      "text/plain": [
       "<IPython.core.display.Image object>"
      ]
     },
     "metadata": {},
     "output_type": "display_data"
    },
    {
     "name": "stdout",
     "output_type": "stream",
     "text": [
      "test_various_display_10 dict\n",
      "check if image is okay\n"
     ]
    },
    {
     "data": {
      "image/png": "[encoded data removed]",
      "text/plain": [
       "<IPython.core.display.Image object>"
      ]
     },
     "metadata": {},
     "output_type": "display_data"
    }
   ],
   "execution_count": 18
  },
  {
   "cell_type": "code",
   "metadata": {
    "ExecuteTime": {
     "end_time": "2025-04-08T12:41:19.794256Z",
     "start_time": "2025-04-08T12:41:19.788295Z"
    }
   },
   "source": [
    "# if all stuff above is ok run this cell\n",
    "save_test_files(various_tests, various_results, \"render_state_data_test_various.json\")"
   ],
   "outputs": [],
   "execution_count": 19
  },
  {
   "cell_type": "code",
   "metadata": {
    "ExecuteTime": {
     "end_time": "2025-04-08T12:41:19.940235Z",
     "start_time": "2025-04-08T12:41:19.808105Z"
    }
   },
   "source": [
    "from overcooked_ai_py.mdp.layout_generator import LayoutGenerator\n",
    "\n",
    "# testing some states hoping it can find unexpected bugs\n",
    "generated_layout_tests = []\n",
    "generated_layout_results = []\n",
    "\n",
    "config = copy.deepcopy(DEFAULT_VALUES)\n",
    "config[\"tile_size\"] = 45\n",
    "config[\"cooking_timer_font_size\"] = 15\n",
    "\n",
    "DEFAULT_MDP_GEN_PARAMS = {\n",
    "    \"inner_shape\": (7, 5),\n",
    "    \"prop_empty\": 0.7,\n",
    "    \"prop_feats\": 0.4,\n",
    "    \"start_all_orders\": [{\"ingredients\": [\"onion\", \"onion\", \"onion\"]}],\n",
    "    \"recipe_values\": [20],\n",
    "    \"recipe_times\": [20],\n",
    "    \"display\": False,\n",
    "}\n",
    "\n",
    "mdp_fn = LayoutGenerator.mdp_gen_fn_from_dict(\n",
    "    DEFAULT_MDP_GEN_PARAMS, outer_shape=(7, 5)\n",
    ")\n",
    "\n",
    "agent_eval = AgentEvaluator({\"horizon\": 1001}, mdp_fn)\n",
    "trajectory_random_pair = agent_eval.evaluate_random_pair(\n",
    "    num_games=1, display=False, native_eval=True\n",
    ")\n",
    "grid = trajectory_random_pair[\"mdp_params\"][0][\"terrain\"]\n",
    "for i in range(1, 11):\n",
    "    state = trajectory_random_pair[\"ep_states\"][0][i * 100]\n",
    "    kwargs = {\"hud_data\": {}, \"grid\": grid, \"state\": state.to_dict()}\n",
    "    test_dict = {\n",
    "        \"config\": config,\n",
    "        \"kwargs\": kwargs,\n",
    "        \"comment\": \"Various tests on generated layout\",\n",
    "        \"result_array_filename\": \"test_generated_layout_display_%d.npy\" % i,\n",
    "    }\n",
    "    print(\"test_generated_layout_display_%i dict\" % i)\n",
    "    test_array = display_and_export_to_array(test_dict)\n",
    "    generated_layout_tests.append(test_dict)\n",
    "    generated_layout_results.append(test_array)"
   ],
   "outputs": [
    {
     "name": "stderr",
     "output_type": "stream",
     "text": [
      "  0%|          | 0/1 [00:00<?, ?it/s]"
     ]
    },
    {
     "name": "stdout",
     "output_type": "stream",
     "text": [
      "Computing MotionPlanner to be saved in /Users/bram/Documents/Afstuderen/src/overcooked_ai_py/data/planners/XXOXXXX|D     P|D21   X|XX XSDX|XXXXXXX_mp.pkl\n",
      "It took 0.03354191780090332 seconds to create mp\n"
     ]
    },
    {
     "name": "stderr",
     "output_type": "stream",
     "text": [
      "Avg rew: 0.00 (std: 0.00, se: 0.00); avg len: 1001.00; : 100%|██████████| 1/1 [00:00<00:00, 11.34it/s]"
     ]
    },
    {
     "name": "stdout",
     "output_type": "stream",
     "text": [
      "test_generated_layout_display_1 dict\n",
      "check if image is okay\n"
     ]
    },
    {
     "name": "stderr",
     "output_type": "stream",
     "text": [
      "\n"
     ]
    },
    {
     "data": {
      "image/png": "[encoded data removed]",
      "text/plain": [
       "<IPython.core.display.Image object>"
      ]
     },
     "metadata": {},
     "output_type": "display_data"
    },
    {
     "name": "stdout",
     "output_type": "stream",
     "text": [
      "test_generated_layout_display_2 dict\n",
      "check if image is okay\n"
     ]
    },
    {
     "data": {
      "image/png": "[encoded data removed]",
      "text/plain": [
       "<IPython.core.display.Image object>"
      ]
     },
     "metadata": {},
     "output_type": "display_data"
    },
    {
     "name": "stdout",
     "output_type": "stream",
     "text": [
      "test_generated_layout_display_3 dict\n",
      "check if image is okay\n"
     ]
    },
    {
     "data": {
      "image/png": "[encoded data removed]",
      "text/plain": [
       "<IPython.core.display.Image object>"
      ]
     },
     "metadata": {},
     "output_type": "display_data"
    },
    {
     "name": "stdout",
     "output_type": "stream",
     "text": [
      "test_generated_layout_display_4 dict\n",
      "check if image is okay\n"
     ]
    },
    {
     "data": {
      "image/png": "[encoded data removed]",
      "text/plain": [
       "<IPython.core.display.Image object>"
      ]
     },
     "metadata": {},
     "output_type": "display_data"
    },
    {
     "name": "stdout",
     "output_type": "stream",
     "text": [
      "test_generated_layout_display_5 dict\n",
      "check if image is okay\n"
     ]
    },
    {
     "data": {
      "image/png": "[encoded data removed]",
      "text/plain": [
       "<IPython.core.display.Image object>"
      ]
     },
     "metadata": {},
     "output_type": "display_data"
    },
    {
     "name": "stdout",
     "output_type": "stream",
     "text": [
      "test_generated_layout_display_6 dict\n",
      "check if image is okay\n"
     ]
    },
    {
     "data": {
      "image/png": "[encoded data removed]",
      "text/plain": [
       "<IPython.core.display.Image object>"
      ]
     },
     "metadata": {},
     "output_type": "display_data"
    },
    {
     "name": "stdout",
     "output_type": "stream",
     "text": [
      "test_generated_layout_display_7 dict\n",
      "check if image is okay\n"
     ]
    },
    {
     "data": {
      "image/png": "[encoded data removed]",
      "text/plain": [
       "<IPython.core.display.Image object>"
      ]
     },
     "metadata": {},
     "output_type": "display_data"
    },
    {
     "name": "stdout",
     "output_type": "stream",
     "text": [
      "test_generated_layout_display_8 dict\n",
      "check if image is okay\n"
     ]
    },
    {
     "data": {
      "image/png": "[encoded data removed]",
      "text/plain": [
       "<IPython.core.display.Image object>"
      ]
     },
     "metadata": {},
     "output_type": "display_data"
    },
    {
     "name": "stdout",
     "output_type": "stream",
     "text": [
      "test_generated_layout_display_9 dict\n",
      "check if image is okay\n"
     ]
    },
    {
     "data": {
      "image/png": "[encoded data removed]",
      "text/plain": [
       "<IPython.core.display.Image object>"
      ]
     },
     "metadata": {},
     "output_type": "display_data"
    },
    {
     "name": "stdout",
     "output_type": "stream",
     "text": [
      "test_generated_layout_display_10 dict\n",
      "check if image is okay\n"
     ]
    },
    {
     "data": {
      "image/png": "[encoded data removed]",
      "text/plain": [
       "<IPython.core.display.Image object>"
      ]
     },
     "metadata": {},
     "output_type": "display_data"
    }
   ],
   "execution_count": 20
  },
  {
   "cell_type": "code",
   "metadata": {
    "ExecuteTime": {
     "end_time": "2025-04-08T12:41:19.953545Z",
     "start_time": "2025-04-08T12:41:19.948314Z"
    }
   },
   "source": [
    "# if all stuff above is ok run this cell\n",
    "save_test_files(\n",
    "    generated_layout_tests,\n",
    "    generated_layout_results,\n",
    "    \"render_state_data_test_generated_layout.json\",\n",
    ")"
   ],
   "outputs": [],
   "execution_count": 21
  },
  {
   "cell_type": "code",
   "metadata": {
    "ExecuteTime": {
     "end_time": "2025-04-08T12:41:20.070579Z",
     "start_time": "2025-04-08T12:41:19.973407Z"
    }
   },
   "source": [
    "action_probs_tests = []\n",
    "action_probs_results = []\n",
    "config = copy.deepcopy(DEFAULT_VALUES)\n",
    "config[\"tile_size\"] = 45\n",
    "config[\"cooking_timer_font_size\"] = 15\n",
    "mdp = OvercookedGridworld.from_layout_name(layout_name=\"cramped_room\")\n",
    "agent_eval = AgentEvaluator(env_params={\"horizon\": 1001}, mdp_fn=lambda _: mdp)\n",
    "trajectory_random_pair = agent_eval.evaluate_random_pair(\n",
    "    num_games=1, display=False, native_eval=True\n",
    ")\n",
    "grid = trajectory_random_pair[\"mdp_params\"][0][\"terrain\"]\n",
    "\n",
    "agent1 = SampleAgent(\n",
    "    [\n",
    "        GreedyHumanModel(mlam=agent_eval.env.mlam),\n",
    "        RandomAgent(all_actions=True),\n",
    "        RandomAgent(all_actions=False),\n",
    "    ]\n",
    ")\n",
    "agent1.agents[0].set_agent_index(0)\n",
    "agent2 = SampleAgent(\n",
    "    [\n",
    "        GreedyHumanModel(mlam=agent_eval.env.mlam),\n",
    "        RandomAgent(all_actions=True),\n",
    "        RandomAgent(all_actions=False),\n",
    "    ]\n",
    ")\n",
    "agent2.agents[0].set_agent_index(1)\n",
    "\n",
    "for i in range(1, 11):\n",
    "    state = trajectory_random_pair[\"ep_states\"][0][i * 100]\n",
    "    action_probs = [\n",
    "        list(agent1.action(state)[1][\"action_probs\"]),\n",
    "        list(agent2.action(state)[1][\"action_probs\"]),\n",
    "    ]\n",
    "    kwargs = {\n",
    "        \"hud_data\": {},\n",
    "        \"grid\": grid,\n",
    "        \"state\": state.to_dict(),\n",
    "        \"action_probs\": action_probs,\n",
    "    }\n",
    "    test_dict = {\n",
    "        \"config\": config,\n",
    "        \"kwargs\": kwargs,\n",
    "        \"comment\": \"Action probs tests\",\n",
    "        \"result_array_filename\": \"test_action_probs_display_%d.npy\" % i,\n",
    "    }\n",
    "    print(\"test_action_probs_display_%i dict\" % i)\n",
    "    test_array = display_and_export_to_array(test_dict)\n",
    "    action_probs_tests.append(test_dict)\n",
    "    action_probs_results.append(test_array)"
   ],
   "outputs": [
    {
     "name": "stderr",
     "output_type": "stream",
     "text": [
      "Avg rew: 0.00 (std: 0.00, se: 0.00); avg len: 1001.00; : 100%|██████████| 1/1 [00:00<00:00, 18.18it/s]"
     ]
    },
    {
     "name": "stdout",
     "output_type": "stream",
     "text": [
      "test_action_probs_display_1 dict\n",
      "check if image is okay\n"
     ]
    },
    {
     "name": "stderr",
     "output_type": "stream",
     "text": [
      "\n"
     ]
    },
    {
     "data": {
      "image/png": "[encoded data removed]",
      "text/plain": [
       "<IPython.core.display.Image object>"
      ]
     },
     "metadata": {},
     "output_type": "display_data"
    },
    {
     "name": "stdout",
     "output_type": "stream",
     "text": [
      "test_action_probs_display_2 dict\n",
      "check if image is okay\n"
     ]
    },
    {
     "data": {
      "image/png": "[encoded data removed]",
      "text/plain": [
       "<IPython.core.display.Image object>"
      ]
     },
     "metadata": {},
     "output_type": "display_data"
    },
    {
     "name": "stdout",
     "output_type": "stream",
     "text": [
      "test_action_probs_display_3 dict\n",
      "check if image is okay\n"
     ]
    },
    {
     "data": {
      "image/png": "[encoded data removed]",
      "text/plain": [
       "<IPython.core.display.Image object>"
      ]
     },
     "metadata": {},
     "output_type": "display_data"
    },
    {
     "name": "stdout",
     "output_type": "stream",
     "text": [
      "test_action_probs_display_4 dict\n",
      "check if image is okay\n"
     ]
    },
    {
     "data": {
      "image/png": "[encoded data removed]",
      "text/plain": [
       "<IPython.core.display.Image object>"
      ]
     },
     "metadata": {},
     "output_type": "display_data"
    },
    {
     "name": "stdout",
     "output_type": "stream",
     "text": [
      "test_action_probs_display_5 dict\n",
      "check if image is okay\n"
     ]
    },
    {
     "data": {
      "image/png": "[encoded data removed]",
      "text/plain": [
       "<IPython.core.display.Image object>"
      ]
     },
     "metadata": {},
     "output_type": "display_data"
    },
    {
     "name": "stdout",
     "output_type": "stream",
     "text": [
      "test_action_probs_display_6 dict\n",
      "check if image is okay\n"
     ]
    },
    {
     "data": {
      "image/png": "[encoded data removed]",
      "text/plain": [
       "<IPython.core.display.Image object>"
      ]
     },
     "metadata": {},
     "output_type": "display_data"
    },
    {
     "name": "stdout",
     "output_type": "stream",
     "text": [
      "test_action_probs_display_7 dict\n",
      "check if image is okay\n"
     ]
    },
    {
     "data": {
      "image/png": "[encoded data removed]",
      "text/plain": [
       "<IPython.core.display.Image object>"
      ]
     },
     "metadata": {},
     "output_type": "display_data"
    },
    {
     "name": "stdout",
     "output_type": "stream",
     "text": [
      "test_action_probs_display_8 dict\n",
      "check if image is okay\n"
     ]
    },
    {
     "data": {
      "image/png": "[encoded data removed]",
      "text/plain": [
       "<IPython.core.display.Image object>"
      ]
     },
     "metadata": {},
     "output_type": "display_data"
    },
    {
     "name": "stdout",
     "output_type": "stream",
     "text": [
      "test_action_probs_display_9 dict\n",
      "check if image is okay\n"
     ]
    },
    {
     "data": {
      "image/png": "[encoded data removed]",
      "text/plain": [
       "<IPython.core.display.Image object>"
      ]
     },
     "metadata": {},
     "output_type": "display_data"
    },
    {
     "name": "stdout",
     "output_type": "stream",
     "text": [
      "test_action_probs_display_10 dict\n",
      "check if image is okay\n"
     ]
    },
    {
     "data": {
      "image/png": "[encoded data removed]",
      "text/plain": [
       "<IPython.core.display.Image object>"
      ]
     },
     "metadata": {},
     "output_type": "display_data"
    }
   ],
   "execution_count": 22
  },
  {
   "cell_type": "code",
   "metadata": {
    "ExecuteTime": {
     "end_time": "2025-04-08T12:41:44.354459Z",
     "start_time": "2025-04-08T12:41:44.348108Z"
    }
   },
   "source": [
    "# if all stuff above is ok run this cell\n",
    "save_test_files(\n",
    "    action_probs_tests,\n",
    "    action_probs_results,\n",
    "    \"render_state_data_test_action_probs_display.json\",\n",
    ")"
   ],
   "outputs": [],
   "execution_count": 24
  },
  {
   "cell_type": "code",
   "metadata": {
    "ExecuteTime": {
     "end_time": "2025-04-08T12:41:20.107123Z",
     "start_time": "2025-04-08T12:41:20.105835Z"
    }
   },
   "source": [],
   "outputs": [],
   "execution_count": null
  }
 ],
 "metadata": {
  "kernelspec": {
   "display_name": "Python 3",
   "language": "python",
   "name": "python3"
  },
  "language_info": {
   "codemirror_mode": {
    "name": "ipython",
    "version": 3
   },
   "file_extension": ".py",
   "mimetype": "text/x-python",
   "name": "python",
   "nbconvert_exporter": "python",
   "pygments_lexer": "ipython3",
   "version": "3.7.7"
  }
 },
 "nbformat": 4,
 "nbformat_minor": 4
}
